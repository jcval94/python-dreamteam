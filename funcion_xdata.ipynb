{
 "metadata": {
  "language_info": {
   "codemirror_mode": {
    "name": "ipython",
    "version": 3
   },
   "file_extension": ".py",
   "mimetype": "text/x-python",
   "name": "python",
   "nbconvert_exporter": "python",
   "pygments_lexer": "ipython3",
   "version": 3
  },
  "orig_nbformat": 4
 },
 "nbformat": 4,
 "nbformat_minor": 2,
 "cells": [
  {
   "cell_type": "code",
   "execution_count": null,
   "metadata": {},
   "outputs": [],
   "source": [
    "def cross(path_, nombre_):\n",
    "    # Crear la sesion \n",
    "    from pystratio.xd.xdsession import XDSession\n",
    "    def instantiate_xd():\n",
    "        xd=XDSession(sc)\n",
    "    xd=XDSession(sc)  \n",
    "    \n",
    "    XD = xd.sql(\"CREATE TABLE \"+ nombre_ + \" USING parquet OPTIONS \\\n",
    "    (path '\" + path_ +\"', header 'true') \")\n",
    "    \n",
    "    return XD #imaginalo de costado como emoji"
   ]
  },
  {
   "cell_type": "code",
   "execution_count": null,
   "metadata": {},
   "outputs": [],
   "source": [
    "path_400 = '/data/master/mdco/data/engineering/t_mdco_tfra400_automatica_hist'\n",
    "alfa = spark.read.parquet(path_400)\n",
    "alfa.show()"
   ]
  },
  {
   "cell_type": "code",
   "execution_count": null,
   "metadata": {},
   "outputs": [],
   "source": [
    "alfa = alfa.select(\"customer_id\",\"card_bin_number\")\n",
    "alfa.show()"
   ]
  },
  {
   "cell_type": "code",
   "execution_count": null,
   "metadata": {},
   "outputs": [],
   "source": [
    "path = '/data/sandboxes/ceaa/data/XMY78827/XD'\n",
    "XD_400 = 'Cross_402'\n",
    "cross(path, XD_400)"
   ]
  }
 ]
}